{
 "cells": [
  {
   "cell_type": "code",
   "execution_count": 4,
   "metadata": {},
   "outputs": [],
   "source": [
    "from PIL import Image, ImageChops\n",
    "\n",
    "\n"
   ]
  },
  {
   "cell_type": "code",
   "execution_count": 6,
   "metadata": {},
   "outputs": [
    {
     "ename": "ValueError",
     "evalue": "images do not match",
     "output_type": "error",
     "traceback": [
      "\u001b[0;31m---------------------------------------------------------------------------\u001b[0m",
      "\u001b[0;31mValueError\u001b[0m                                Traceback (most recent call last)",
      "Cell \u001b[0;32mIn[6], line 30\u001b[0m\n\u001b[1;32m     27\u001b[0m image2_path \u001b[38;5;241m=\u001b[39m \u001b[38;5;124m'\u001b[39m\u001b[38;5;124mimage1.jpeg\u001b[39m\u001b[38;5;124m'\u001b[39m\n\u001b[1;32m     28\u001b[0m output_path \u001b[38;5;241m=\u001b[39m \u001b[38;5;124m'\u001b[39m\u001b[38;5;124mdifference_image.png\u001b[39m\u001b[38;5;124m'\u001b[39m\n\u001b[0;32m---> 30\u001b[0m \u001b[43mimage_difference\u001b[49m\u001b[43m(\u001b[49m\u001b[43mimage1_path\u001b[49m\u001b[43m,\u001b[49m\u001b[43m \u001b[49m\u001b[43mimage2_path\u001b[49m\u001b[43m,\u001b[49m\u001b[43m \u001b[49m\u001b[43moutput_path\u001b[49m\u001b[43m)\u001b[49m\n",
      "Cell \u001b[0;32mIn[6], line 10\u001b[0m, in \u001b[0;36mimage_difference\u001b[0;34m(image1_path, image2_path, output_path)\u001b[0m\n\u001b[1;32m      7\u001b[0m img2 \u001b[38;5;241m=\u001b[39m img2\u001b[38;5;241m.\u001b[39mresize(img1\u001b[38;5;241m.\u001b[39msize)\n\u001b[1;32m      9\u001b[0m \u001b[38;5;66;03m# Calculate the absolute difference between the images\u001b[39;00m\n\u001b[0;32m---> 10\u001b[0m diff \u001b[38;5;241m=\u001b[39m \u001b[43mImageChops\u001b[49m\u001b[38;5;241;43m.\u001b[39;49m\u001b[43mdifference\u001b[49m\u001b[43m(\u001b[49m\u001b[43mimg1\u001b[49m\u001b[43m,\u001b[49m\u001b[43m \u001b[49m\u001b[43mimg2\u001b[49m\u001b[43m)\u001b[49m\n\u001b[1;32m     12\u001b[0m \u001b[38;5;66;03m# Convert the difference image to grayscale\u001b[39;00m\n\u001b[1;32m     13\u001b[0m diff \u001b[38;5;241m=\u001b[39m diff\u001b[38;5;241m.\u001b[39mconvert(\u001b[38;5;124m'\u001b[39m\u001b[38;5;124mL\u001b[39m\u001b[38;5;124m'\u001b[39m)\n",
      "File \u001b[0;32m/Library/Frameworks/Python.framework/Versions/3.11/lib/python3.11/site-packages/PIL/ImageChops.py:94\u001b[0m, in \u001b[0;36mdifference\u001b[0;34m(image1, image2)\u001b[0m\n\u001b[1;32m     92\u001b[0m image1\u001b[38;5;241m.\u001b[39mload()\n\u001b[1;32m     93\u001b[0m image2\u001b[38;5;241m.\u001b[39mload()\n\u001b[0;32m---> 94\u001b[0m \u001b[38;5;28;01mreturn\u001b[39;00m image1\u001b[38;5;241m.\u001b[39m_new(\u001b[43mimage1\u001b[49m\u001b[38;5;241;43m.\u001b[39;49m\u001b[43mim\u001b[49m\u001b[38;5;241;43m.\u001b[39;49m\u001b[43mchop_difference\u001b[49m\u001b[43m(\u001b[49m\u001b[43mimage2\u001b[49m\u001b[38;5;241;43m.\u001b[39;49m\u001b[43mim\u001b[49m\u001b[43m)\u001b[49m)\n",
      "\u001b[0;31mValueError\u001b[0m: images do not match"
     ]
    }
   ],
   "source": [
    "def image_difference(image1_path, image2_path, output_path):\n",
    "    # Open the images\n",
    "    img1 = Image.open(image1_path)\n",
    "    img2 = Image.open(image2_path)\n",
    "\n",
    "    # Ensure the images have the same size\n",
    "    img2 = img2.resize(img1.size)\n",
    "\n",
    "    # Calculate the absolute difference between the images\n",
    "    diff = ImageChops.difference(img1, img2)\n",
    "\n",
    "    # Convert the difference image to grayscale\n",
    "    diff = diff.convert('L')\n",
    "\n",
    "    # Save the difference image\n",
    "    diff.save(output_path)\n",
    "\n",
    "    # Calculate the percentage difference\n",
    "    diff_percentage = ImageChops.difference(img1, img2).getbbox()\n",
    "    if diff_percentage:\n",
    "        print(f\"The images are {diff_percentage[2]:.2f}% different.\")\n",
    "    else:\n",
    "        print(\"The images are identical.\")\n",
    "\n",
    "# Example usage\n",
    "image1_path = '256color.png'\n",
    "image2_path = 'image1.jpeg'\n",
    "output_path = 'difference_image.png'\n",
    "\n",
    "image_difference(image1_path, image2_path, output_path)"
   ]
  },
  {
   "cell_type": "code",
   "execution_count": null,
   "metadata": {},
   "outputs": [],
   "source": []
  }
 ],
 "metadata": {
  "kernelspec": {
   "display_name": "Python 3",
   "language": "python",
   "name": "python3"
  },
  "language_info": {
   "codemirror_mode": {
    "name": "ipython",
    "version": 3
   },
   "file_extension": ".py",
   "mimetype": "text/x-python",
   "name": "python",
   "nbconvert_exporter": "python",
   "pygments_lexer": "ipython3",
   "version": "3.11.2"
  }
 },
 "nbformat": 4,
 "nbformat_minor": 2
}
